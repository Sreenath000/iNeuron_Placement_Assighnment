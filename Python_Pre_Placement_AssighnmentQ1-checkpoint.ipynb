{
 "cells": [
  {
   "cell_type": "markdown",
   "id": "8ff5c376",
   "metadata": {},
   "source": [
    "Question 1: -\n",
    "\n",
    "Write a program that takes a string as input, and counts the frequency of each word in the string, there might be repeated characters in the string. Your task is to find the highest frequency and returns the length of the highest-frequency word."
   ]
  },
  {
   "cell_type": "code",
   "execution_count": 1,
   "id": "0f58125e",
   "metadata": {},
   "outputs": [
    {
     "name": "stdout",
     "output_type": "stream",
     "text": [
      "**************************************** Test Case 1 *****************************************************\n",
      "Frequency of  through is :  1\n",
      "Frequency of  is is :  1\n",
      "Frequency of  time. is :  1\n",
      "Frequency of  done is :  1\n",
      "Frequency of  the is :  2\n",
      "Frequency of  at is :  1\n",
      "Frequency of  correspondents, is :  1\n",
      "Frequency of  a is :  1\n",
      "Frequency of  then is :  1\n",
      "Frequency of  However, is :  1\n",
      "Frequency of  limit is :  1\n",
      "Frequency of  business is :  1\n",
      "Frequency of  be is :  1\n",
      "Frequency of  . is :  1\n",
      "Frequency of  if is :  1\n",
      "Frequency of  can is :  1\n",
      "Frequency of  same is :  1\n",
      "Frequency of  exchanged is :  1\n",
      "**************************************** Test Case 2 *****************************************************\n",
      "Frequency of  era is :  1\n",
      "Frequency of  is is :  2\n",
      "Frequency of  world is :  1\n",
      "Frequency of  war is :  1\n",
      "Frequency of  This is :  1\n",
      "Frequency of  of is :  1\n",
      "**************************************** Test Case 3 *****************************************************\n",
      "Frequency of  daily is :  1\n",
      "Frequency of  Earth, is :  1\n",
      "Frequency of  make is :  1\n",
      "Frequency of  close is :  1\n",
      "Frequency of  on is :  1\n",
      "Frequency of  a is :  1\n",
      "Frequency of  basis, is :  1\n",
      "Frequency of  aren't is :  1\n",
      "Frequency of  necessary is :  1\n",
      "Frequency of  Asteroids, is :  1\n",
      "Frequency of  it is :  1\n",
      "Frequency of  track is :  1\n",
      "Frequency of  threats. is :  1\n",
      "Frequency of  them is :  1\n",
      "Frequency of  only is :  1\n",
      "Frequency of  to is :  2\n",
      "Frequency of  study is :  1\n",
      "Frequency of  and is :  1\n",
      "Frequency of  potential is :  1\n",
      "Frequency of  making is :  1\n",
      "Frequency of  impact is :  1\n",
      "Frequency of  the is :  1\n",
      "Frequency of  for is :  1\n",
      "Frequency of  But is :  1\n",
      "Frequency of  these is :  1\n",
      "Frequency of  approaches is :  1\n"
     ]
    }
   ],
   "source": [
    "def freq_of_word(str): \n",
    "  str1_list = str.split()\n",
    "  words = set(str1_list)\n",
    "  for word in words:\n",
    "    print('Frequency of ' , word ,'is : ', str1_list.count(word) ) \n",
    "\n",
    "### Driver Code\n",
    "print(\"**************************************** Test Case 1 *****************************************************\")\n",
    "str2 = \"can be exchanged at a time. However, if the same is done through business correspondents, then the limit .\"\n",
    "freq_of_word(str2)\n",
    "\n",
    "print(\"**************************************** Test Case 2 *****************************************************\")\n",
    "str3 = \"This is world is era of war \"\n",
    "freq_of_word(str3)\n",
    "\n",
    "print(\"**************************************** Test Case 3 *****************************************************\")\n",
    "str4 = \"But these aren't the only threats. Asteroids, on a daily basis, make close approaches to Earth, making it necessary to track and study them for potential impact\"\n",
    "freq_of_word(str4)"
   ]
  },
  {
   "cell_type": "code",
   "execution_count": null,
   "id": "41c865c5",
   "metadata": {},
   "outputs": [],
   "source": []
  }
 ],
 "metadata": {
  "kernelspec": {
   "display_name": "Python 3 (ipykernel)",
   "language": "python",
   "name": "python3"
  },
  "language_info": {
   "codemirror_mode": {
    "name": "ipython",
    "version": 3
   },
   "file_extension": ".py",
   "mimetype": "text/x-python",
   "name": "python",
   "nbconvert_exporter": "python",
   "pygments_lexer": "ipython3",
   "version": "3.9.12"
  }
 },
 "nbformat": 4,
 "nbformat_minor": 5
}
