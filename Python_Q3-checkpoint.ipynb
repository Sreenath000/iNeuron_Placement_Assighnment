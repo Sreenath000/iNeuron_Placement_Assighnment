{
 "cells": [
  {
   "cell_type": "markdown",
   "id": "be5a708d",
   "metadata": {},
   "source": [
    "Q3\n",
    "\n",
    "Write a program, which would download the data from the provided link, and then read the data and convert that into properly structured data and return it in Excel format."
   ]
  },
  {
   "cell_type": "code",
   "execution_count": null,
   "id": "9358ccdd",
   "metadata": {},
   "outputs": [],
   "source": [
    "import requests\n",
    "import pandas as pd\n",
    "\n",
    "def download_data(url):\n",
    "    response = requests.get(url)\n",
    "    if response.status_code == 200:\n",
    "        return response.json()\n",
    "    else:\n",
    "        raise Exception(f\"Failed to download data from {url}\")\n",
    "\n",
    "def process_data(data):\n",
    "  df = pd.DataFrame(data)\n",
    "  return df\n",
    "\n",
    "def convert_to_excel(dataframe,output_file):\n",
    "  dataframe.to_excel(output_file,index = False)\n",
    "  print(f\"Data successfully converted to Excel format in '{output_file}'\")\n",
    "\n",
    "\n",
    "url = 'https://raw.githubusercontent.com/Biuni/PokemonGO-Pokedex/master/pokedex.json'\n",
    "output_file = 'pokedex.xlsx'\n",
    "\n",
    "try:\n",
    "    raw_data = download_data(url)\n",
    "    pro_data = process_data(raw_data)\n",
    "    convert_to_excel(pro_data,output_file)\n",
    "except Exception as e:\n",
    "    print(\"An error occurred:\", str(e))"
   ]
  }
 ],
 "metadata": {
  "kernelspec": {
   "display_name": "Python 3 (ipykernel)",
   "language": "python",
   "name": "python3"
  },
  "language_info": {
   "codemirror_mode": {
    "name": "ipython",
    "version": 3
   },
   "file_extension": ".py",
   "mimetype": "text/x-python",
   "name": "python",
   "nbconvert_exporter": "python",
   "pygments_lexer": "ipython3",
   "version": "3.9.12"
  }
 },
 "nbformat": 4,
 "nbformat_minor": 5
}
