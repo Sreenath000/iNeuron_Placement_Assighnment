{
 "cells": [
  {
   "cell_type": "markdown",
   "id": "ba25e699",
   "metadata": {},
   "source": [
    "Q6\n",
    "\n",
    "Using the data from Question 3, write code to analyze the data and answer the following questions Note 1. Draw plots to demonstrate the analysis for the following questions for better visualizations. 2. Write code comments wherever required for code understanding"
   ]
  },
  {
   "cell_type": "code",
   "execution_count": null,
   "id": "3feef437",
   "metadata": {},
   "outputs": [],
   "source": [
    "import pandas as pd\n",
    "import matplotlib.pyplot as plt\n",
    "\n",
    "# Load the data from the URL\n",
    "url = 'https://raw.githubusercontent.com/Biuni/PokemonGO-Pokedex/master/pokedex.json'\n",
    "data = pd.read_json(url)\n",
    "\n",
    "# Filter the Pokemon with a spawn rate less than 5%\n",
    "spawn_rate_threshold = 0.05\n",
    "filtered_data = data[data['spawn_chance'] < spawn_rate_threshold]\n",
    "\n",
    "# Create a bar plot to visualize the spawn rates\n",
    "plt.figure(figsize=(12, 6))\n",
    "plt.bar(filtered_data['name'], filtered_data['spawn_chance'])\n",
    "plt.xlabel('Pokemon')\n",
    "plt.ylabel('Spawn Rate')\n",
    "plt.title('Pokemon with Spawn Rate Less Than 5%')\n",
    "plt.xticks(rotation=90)\n",
    "plt.show()\n"
   ]
  }
 ],
 "metadata": {
  "kernelspec": {
   "display_name": "Python 3 (ipykernel)",
   "language": "python",
   "name": "python3"
  },
  "language_info": {
   "codemirror_mode": {
    "name": "ipython",
    "version": 3
   },
   "file_extension": ".py",
   "mimetype": "text/x-python",
   "name": "python",
   "nbconvert_exporter": "python",
   "pygments_lexer": "ipython3",
   "version": "3.9.12"
  }
 },
 "nbformat": 4,
 "nbformat_minor": 5
}
