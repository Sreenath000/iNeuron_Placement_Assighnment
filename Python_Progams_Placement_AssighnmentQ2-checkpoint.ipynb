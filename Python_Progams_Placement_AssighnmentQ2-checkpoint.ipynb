{
 "cells": [
  {
   "cell_type": "markdown",
   "id": "6ca41659",
   "metadata": {},
   "source": [
    "Question 2: -\n",
    "\n",
    "Consider a string to be valid if all characters of the string appear the same number of times. It is also valid if he can remove just one character at the index in the string, and the remaining characters will occur the same number of times. Given a string, determine if it is valid. If so, return YES , otherwise return NO "
   ]
  },
  {
   "cell_type": "code",
   "execution_count": 1,
   "id": "214d32ec",
   "metadata": {},
   "outputs": [
    {
     "name": "stdout",
     "output_type": "stream",
     "text": [
      "**************************************** Test Case 1 *****************************************************\n",
      "False\n",
      "**************************************** Test Case 2 *****************************************************\n",
      "False\n",
      "**************************************** Test Case 3 *****************************************************\n",
      "True\n"
     ]
    }
   ],
   "source": [
    "from collections import Counter\n",
    " \n",
    "def validate_str(strr):\n",
    "   \n",
    "    freq = Counter(strr)\n",
    "     \n",
    "    valuelist = list(freq.values()) \n",
    "     \n",
    "    ValueCounter = Counter(valuelist)\n",
    "    if(len(ValueCounter) == 1):\n",
    "        return True\n",
    "    elif(len(ValueCounter) == 2 and\n",
    "         min(ValueCounter.values()) == 1):\n",
    "        return True\n",
    "       \n",
    "    return False\n",
    "# Driver code\n",
    "print(\"**************************************** Test Case 1 *****************************************************\")\n",
    "str1 = \"abcbcdabcdcabcdcabcdcabc\"\n",
    "print(validate_str(str1))\n",
    "print(\"**************************************** Test Case 2 *****************************************************\")\n",
    "str2 = \"xyzxyzxyzdfexzsdyekauexyzgdjake\"\n",
    "print(validate_str(str2))\n",
    "print(\"**************************************** Test Case 3 *****************************************************\")\n",
    "str3 = \"abcbc\"\n",
    "print(validate_str(str3))"
   ]
  },
  {
   "cell_type": "code",
   "execution_count": null,
   "id": "b57370e9",
   "metadata": {},
   "outputs": [],
   "source": []
  }
 ],
 "metadata": {
  "kernelspec": {
   "display_name": "Python 3 (ipykernel)",
   "language": "python",
   "name": "python3"
  },
  "language_info": {
   "codemirror_mode": {
    "name": "ipython",
    "version": 3
   },
   "file_extension": ".py",
   "mimetype": "text/x-python",
   "name": "python",
   "nbconvert_exporter": "python",
   "pygments_lexer": "ipython3",
   "version": "3.9.12"
  }
 },
 "nbformat": 4,
 "nbformat_minor": 5
}
