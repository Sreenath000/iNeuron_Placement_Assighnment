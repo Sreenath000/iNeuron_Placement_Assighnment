{
 "cells": [
  {
   "cell_type": "markdown",
   "id": "ccabcec4",
   "metadata": {},
   "source": [
    "Q-1. \n",
    "\n",
    "Imagine you have a dataset where you have different Instagram features\n",
    "like u sername , Caption , Hashtag , Followers , Time_Since_posted , and likes , now your task is\n",
    "to predict the number of likes and Time Since posted and the rest of the features are\n",
    "your input features. Now you have to build a model which can predict the\n",
    "number of likes and Time Since posted.\n",
    "Dataset This is the Dataset You can use this dataset for this question."
   ]
  },
  {
   "cell_type": "code",
   "execution_count": 4,
   "id": "d9779a4a",
   "metadata": {},
   "outputs": [
    {
     "name": "stdout",
     "output_type": "stream",
     "text": [
      "Likes Prediction:\n",
      "Mean Squared Error: 1859.1731983903949\n",
      "R-squared Score: -0.31146806787424386\n"
     ]
    }
   ],
   "source": [
    "import pandas as pd\n",
    "from sklearn.model_selection import train_test_split\n",
    "from sklearn.linear_model import LinearRegression\n",
    "from sklearn.metrics import mean_squared_error, r2_score\n",
    "import re\n",
    "\n",
    "# Load the dataset\n",
    "import os \n",
    "os.chdir(\"D:\\Datasets\")\n",
    "\n",
    "data = pd.read_csv(\"instagram_reach.csv\")\n",
    "\n",
    "# Select input features and target variables\n",
    "input_features = ['USERNAME', 'Caption', 'Hashtags', 'Followers']\n",
    "target_likes = 'Likes'\n",
    "target_time_since_posted = 'Time since posted'\n",
    "\n",
    "# Prepare the data\n",
    "X = data[input_features]\n",
    "y_likes = data[target_likes]\n",
    "\n",
    "# Convert \"Time since posted\" to numeric representation\n",
    "def convert_time_to_hours(time):\n",
    "    if 'hour' in time:\n",
    "        return int(re.findall(r'\\d+', time)[0])\n",
    "    elif 'day' in time:\n",
    "        return int(re.findall(r'\\d+', time)[0]) * 24\n",
    "    elif 'week' in time:\n",
    "        return int(re.findall(r'\\d+', time)[0]) * 24 * 7\n",
    "    elif 'month' in time:\n",
    "        return int(re.findall(r'\\d+', time)[0]) * 24 * 30\n",
    "    else:\n",
    "        return 0\n",
    "\n",
    "data['Time since posted'] = data['Time since posted'].apply(convert_time_to_hours)\n",
    "\n",
    "# Encode categorical features\n",
    "X_encoded = pd.get_dummies(X, drop_first=True)\n",
    "\n",
    "# Split the data into training and testing sets\n",
    "X_train, X_test, y_train_likes, y_test_likes = train_test_split(\n",
    "    X_encoded, y_likes, test_size=0.2, random_state=42)\n",
    "\n",
    "# Build and train the Linear Regression model for predicting likes\n",
    "model_likes = LinearRegression()\n",
    "model_likes.fit(X_train, y_train_likes)\n",
    "\n",
    "# Make predictions on the test set for likes\n",
    "y_pred_likes = model_likes.predict(X_test)\n",
    "\n",
    "# Evaluate the model\n",
    "mse_likes = mean_squared_error(y_test_likes, y_pred_likes)\n",
    "r2_likes = r2_score(y_test_likes, y_pred_likes)\n",
    "\n",
    "print(\"Likes Prediction:\")\n",
    "print(\"Mean Squared Error:\", mse_likes)\n",
    "print(\"R-squared Score:\", r2_likes)"
   ]
  },
  {
   "cell_type": "code",
   "execution_count": null,
   "id": "7d860b64",
   "metadata": {},
   "outputs": [],
   "source": []
  }
 ],
 "metadata": {
  "kernelspec": {
   "display_name": "Python 3 (ipykernel)",
   "language": "python",
   "name": "python3"
  },
  "language_info": {
   "codemirror_mode": {
    "name": "ipython",
    "version": 3
   },
   "file_extension": ".py",
   "mimetype": "text/x-python",
   "name": "python",
   "nbconvert_exporter": "python",
   "pygments_lexer": "ipython3",
   "version": "3.9.12"
  }
 },
 "nbformat": 4,
 "nbformat_minor": 5
}
