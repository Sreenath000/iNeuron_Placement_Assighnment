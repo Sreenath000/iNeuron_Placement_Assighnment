{
 "cells": [
  {
   "cell_type": "markdown",
   "id": "949159e2",
   "metadata": {},
   "source": [
    "Q4\n",
    "\n",
    "Write a program to download the data from the link given below and then read the data and convert the into the proper structure and return it as a CSV file."
   ]
  },
  {
   "cell_type": "code",
   "execution_count": 1,
   "id": "b5af95f2",
   "metadata": {},
   "outputs": [
    {
     "name": "stdout",
     "output_type": "stream",
     "text": [
      "Data successfully converted to csv format in 'nasa.csv'\n"
     ]
    }
   ],
   "source": [
    "import requests\n",
    "import pandas as pd\n",
    "import csv\n",
    "\n",
    "def download_data(url):\n",
    "    response = requests.get(url)\n",
    "    if response.status_code == 200:\n",
    "        return response.content\n",
    "    else:\n",
    "        raise Exception(f\"Failed to download data from {url}\")\n",
    "\n",
    "def process_data(data):\n",
    "    df = pd.read_json(url)\n",
    "    return df\n",
    "\n",
    "def convert_to_csv(dataframe, output_file):\n",
    "    dataframe.to_csv(output_file, index=False)\n",
    "    print(f\"Data successfully converted to csv format in '{output_file}'\")\n",
    "\n",
    "url = 'https://data.nasa.gov/resource/y77d-th95.json'\n",
    "output_file = \"nasa.csv\"\n",
    "\n",
    "try:\n",
    "    raw_data = download_data(url)\n",
    "\n",
    "    processed_data = process_data(raw_data)\n",
    "\n",
    "    convert_to_csv(processed_data, output_file)\n",
    "    \n",
    "except Exception as e:\n",
    "    print(\"An error occurred:\", str(e))"
   ]
  },
  {
   "cell_type": "code",
   "execution_count": null,
   "id": "abb4a7ae",
   "metadata": {},
   "outputs": [],
   "source": []
  }
 ],
 "metadata": {
  "kernelspec": {
   "display_name": "Python 3 (ipykernel)",
   "language": "python",
   "name": "python3"
  },
  "language_info": {
   "codemirror_mode": {
    "name": "ipython",
    "version": 3
   },
   "file_extension": ".py",
   "mimetype": "text/x-python",
   "name": "python",
   "nbconvert_exporter": "python",
   "pygments_lexer": "ipython3",
   "version": "3.9.12"
  }
 },
 "nbformat": 4,
 "nbformat_minor": 5
}
